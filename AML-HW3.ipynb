{
 "cells": [
  {
   "cell_type": "code",
   "execution_count": 25,
   "metadata": {},
   "outputs": [],
   "source": [
    "from sklearn.linear_model import LinearRegression, Ridge, Lasso, ElasticNet\n",
    "from sklearn.model_selection import GridSearchCV\n",
    "from sklearn.preprocessing import Imputer\n",
    "from sklearn.preprocessing import StandardScaler\n",
    "from sklearn.pipeline import make_pipeline\n",
    "from sklearn.preprocessing import PolynomialFeatures\n",
    "import matplotlib.pyplot as plt\n",
    "import numpy as np \n",
    "import pandas as pd\n",
    "from sklearn.linear_model import  ElasticNet\n",
    "from sklearn.feature_selection import SelectFromModel"
   ]
  },
  {
   "cell_type": "markdown",
   "metadata": {},
   "source": [
    "Loading data\n",
    "======"
   ]
  },
  {
   "cell_type": "code",
   "execution_count": 26,
   "metadata": {
    "collapsed": true
   },
   "outputs": [],
   "source": [
    "\n",
    "file2015 = '2015 FE Guide-for DOE-Mobility Ventures only-OK to release-no-sales-4-27-2017Mercedesforpublic.xlsx'\n",
    "file2016 = '2016 FE Guide for DOE-OK to release-no-sales-4-27-2017Mercedesforpublic.xlsx'\n",
    "file2017 = '2017 FE Guide for DOE-release dates before 9-20-2017-no sales-9-19-2017MercedesCadillacforpublic.xlsx'\n",
    "file2018 = '2018 FE Guide for DOE-release dates before 2-17-2018-no-sales-2-15-2018public.xlsx'\n",
    "\n",
    "data2015 = pd.ExcelFile(file2015)\n",
    "data2016 = pd.ExcelFile(file2016)\n",
    "data2017 = pd.ExcelFile(file2017)\n",
    "data2018 = pd.ExcelFile(file2018)\n"
   ]
  },
  {
   "cell_type": "code",
   "execution_count": 27,
   "metadata": {
    "collapsed": true
   },
   "outputs": [],
   "source": [
    "df2015 = data2015.parse('FEguide')\n",
    "df2016 = data2016.parse('FEguide')\n",
    "df2017 = data2017.parse('FEguide')\n",
    "df2018 = data2018.parse('FEguide')"
   ]
  },
  {
   "cell_type": "code",
   "execution_count": 28,
   "metadata": {},
   "outputs": [
    {
     "name": "stdout",
     "output_type": "stream",
     "text": [
      "162\n",
      "162\n",
      "162\n",
      "162\n"
     ]
    }
   ],
   "source": [
    "list(df2015)\n",
    "print(len(list(df2015)))\n",
    "print(len(list(df2016)))\n",
    "print(len(list(df2017)))\n",
    "print(len(list(df2018)))\n"
   ]
  },
  {
   "cell_type": "markdown",
   "metadata": {},
   "source": [
    "Selecting columns with more than 75% of observations\n",
    "====="
   ]
  },
  {
   "cell_type": "code",
   "execution_count": 29,
   "metadata": {
    "collapsed": true
   },
   "outputs": [],
   "source": [
    "frac = (df2015.apply(lambda x: x.count(), axis=0)/1249*100).values\n",
    "zipped = zip(df2015.columns, frac)\n",
    "df2015 = df2015[[x[0] for x in list(filter(lambda x: x[1] > 75, zipped))]]\n",
    "\n",
    "frac = (df2016.apply(lambda x: x.count(), axis=0)/1249*100).values\n",
    "zipped = zip(df2016.columns, frac)\n",
    "df2016 = df2016[[x[0] for x in list(filter(lambda x: x[1] > 75, zipped))]]\n",
    "\n",
    "frac = (df2017.apply(lambda x: x.count(), axis=0)/1249*100).values\n",
    "zipped = zip(df2017.columns, frac)\n",
    "df2017 = df2017[[x[0] for x in list(filter(lambda x: x[1] > 75, zipped))]]\n",
    "\n",
    "\n",
    "frac = (df2018.apply(lambda x: x.count(), axis=0)/1249*100).values\n",
    "zipped = zip(df2018.columns, frac)\n",
    "df2018 = df2018[[x[0] for x in list(filter(lambda x: x[1] > 75, zipped))]]\n",
    "\n"
   ]
  },
  {
   "cell_type": "code",
   "execution_count": 30,
   "metadata": {},
   "outputs": [
    {
     "name": "stdout",
     "output_type": "stream",
     "text": [
      "63\n",
      "63\n",
      "64\n",
      "65\n"
     ]
    }
   ],
   "source": [
    "print(len(df2015.apply(lambda x: x.count(), axis=0)/1249*100))\n",
    "print(len(df2016.apply(lambda x: x.count(), axis=0)/1249*100))\n",
    "print(len(df2017.apply(lambda x: x.count(), axis=0)/1249*100))\n",
    "print(len(df2018.apply(lambda x: x.count(), axis=0)/1249*100))"
   ]
  },
  {
   "cell_type": "code",
   "execution_count": 31,
   "metadata": {
    "collapsed": true
   },
   "outputs": [],
   "source": [
    "train = pd.concat([df2015, df2016, df2017], ignore_index= True)\n",
    "\n",
    "for i in train:\n",
    "        for k in train[i]:\n",
    "            if k == 'Mod':\n",
    "                train[i] = train[i].replace('Mod', 0)\n",
    "\n",
    "for n in df2018:\n",
    "        for m in df2018[n]:\n",
    "            if m == 'Mod':\n",
    "                df2018[n] = df2018[n].replace('Mod', 0)\n"
   ]
  },
  {
   "cell_type": "markdown",
   "metadata": {},
   "source": [
    "Variables that will be included in the data set "
   ]
  },
  {
   "cell_type": "code",
   "execution_count": 32,
   "metadata": {
    "collapsed": true
   },
   "outputs": [],
   "source": [
    "numerical = ['Model Year', \n",
    "             'Eng Displ', \n",
    "             '# Cyl', \n",
    "             'Intake Valves Per Cyl',\n",
    "             '# Gears',\n",
    "             'Annual Fuel1 Cost - Conventional Fuel',\n",
    "             'Exhaust Valves Per Cyl',\n",
    "             '$ You Spend over 5 years (increased amount spent in fuel costs over 5 years - on label) ',\n",
    "             'Max Ethanol % - Gasoline',\n",
    "             'Release Date', 'Comb Unrd Adj FE - Conventional Fuel']\n",
    "\n",
    "categorical = ['Mfr Name', \n",
    "               'Division', \n",
    "               'Carline', \n",
    "               'Carline Class',\n",
    "               'Verify Mfr Cd',\n",
    "               'Index (Model Type Index)', \n",
    "               'Transmission',\n",
    "               'Trans',\n",
    "               'Drive Sys', \n",
    "               'Fuel Usage  - Conventional Fuel',\n",
    "               'Fuel Unit - Conventional Fuel',\n",
    "               'Fuel Metering Sys Cd',\n",
    "               'Oil Viscosity']\n",
    "\n",
    "boolean = ['Lockup Torque Converter',\n",
    "           'Trans Creeper Gear', \n",
    "           'Cyl Deact?', \n",
    "           'Var Valve Timing?', \n",
    "           'Var Valve Lift?', \n",
    "           'Camless Valvetrain (Y or N)', \n",
    "           'Stop/Start System (Engine Management System) Code',\n",
    "           'Suppressed?', \n",
    "           'Police/Emerg?',\n",
    "           'Label Recalc?',\n",
    "           'Unique Label?']\n",
    "\n",
    "predict = [\"Comb Unrd Adj FE - Conventional Fuel\"]\n",
    "\n",
    "data = numerical + categorical + boolean\n",
    "\n",
    "train = train[data]"
   ]
  },
  {
   "cell_type": "markdown",
   "metadata": {},
   "source": [
    "Selecting same features for train and test sets"
   ]
  },
  {
   "cell_type": "code",
   "execution_count": 33,
   "metadata": {},
   "outputs": [],
   "source": [
    "feature = []\n",
    "for i in train:\n",
    "    feature.append(i)\n",
    "    \n",
    "df_test = df2018[feature]\n"
   ]
  },
  {
   "cell_type": "markdown",
   "metadata": {},
   "source": [
    "Imputer and Scaler for train data \n",
    "====="
   ]
  },
  {
   "cell_type": "code",
   "execution_count": 34,
   "metadata": {},
   "outputs": [],
   "source": [
    "\n",
    "#converting date to integer format\n",
    "train['Release Date'] = train['Release Date'].astype(np.int64)\n",
    "train.dtypes\n",
    "\n",
    "# train_cat = train.select_dtypes(include=['object'])\n",
    "# train_num = train.select_dtypes(include=['int64','float64'])\n",
    "# train_num\n",
    "#train = pd.get_dummies(train)\n",
    "train_num = train[numerical]\n",
    "\n",
    "\n",
    "imp = Imputer(missing_values = 'NaN', strategy = 'mean').fit(train_num)\n",
    "train_imp = imp.transform(train_num)\n",
    "train_imp1 = pd.DataFrame(train_imp, columns = train_num.columns)\n",
    "\n",
    "scaler = StandardScaler()\n",
    "scaler.fit(train_imp1)\n",
    "train_imp_scaled = scaler.transform(train_imp1)\n",
    "train_imp_scaled1 = pd.DataFrame(train_imp_scaled, columns = train_imp1.columns)\n",
    "\n"
   ]
  },
  {
   "cell_type": "code",
   "execution_count": 35,
   "metadata": {},
   "outputs": [],
   "source": [
    "\n",
    "feature_s = categorical + boolean\n",
    "train_full = pd.concat([train_imp_scaled1, train[feature_s]], axis = 1)\n",
    "train_d = pd.get_dummies(train_full, columns = feature_s)\n"
   ]
  },
  {
   "cell_type": "markdown",
   "metadata": {},
   "source": [
    "Imputer and Scaler for test data\n",
    "====="
   ]
  },
  {
   "cell_type": "code",
   "execution_count": 36,
   "metadata": {},
   "outputs": [
    {
     "name": "stderr",
     "output_type": "stream",
     "text": [
      "/Users/elizabetdoliar/anaconda3/lib/python3.6/site-packages/ipykernel_launcher.py:3: SettingWithCopyWarning: \n",
      "A value is trying to be set on a copy of a slice from a DataFrame.\n",
      "Try using .loc[row_indexer,col_indexer] = value instead\n",
      "\n",
      "See the caveats in the documentation: http://pandas.pydata.org/pandas-docs/stable/indexing.html#indexing-view-versus-copy\n",
      "  This is separate from the ipykernel package so we can avoid doing imports until\n"
     ]
    }
   ],
   "source": [
    "df_test_num = df_test[numerical]\n",
    "\n",
    "df_test_num['Release Date'] = df_test_num['Release Date'].astype(np.int64)\n",
    "\n",
    "\n",
    "imp1 = Imputer(missing_values = 'NaN', strategy = 'mean').fit(df_test_num)\n",
    "test_imp = imp1.transform(df_test_num)\n",
    "test_imp1 = pd.DataFrame(test_imp, columns = df_test_num.columns)\n",
    "\n",
    "\n",
    "test_imp_scaled = scaler.transform(test_imp1)\n",
    "test_imp_scaled1 = pd.DataFrame(test_imp_scaled, columns = test_imp1.columns)\n",
    "\n",
    "\n",
    "df_test_cat = df_test[categorical + boolean] \n",
    "\n",
    "test_full = pd.concat([test_imp_scaled1, df_test[feature_s]],axis=1)\n",
    "\n",
    "test_d = pd.get_dummies(test_full, columns = categorical + boolean)\n"
   ]
  },
  {
   "cell_type": "markdown",
   "metadata": {},
   "source": [
    "Split into test and train\n",
    "====="
   ]
  },
  {
   "cell_type": "code",
   "execution_count": 37,
   "metadata": {
    "collapsed": true
   },
   "outputs": [],
   "source": [
    "\n",
    "y_train = train_d['Comb Unrd Adj FE - Conventional Fuel']\n",
    "X_train = train_d.drop('Comb Unrd Adj FE - Conventional Fuel', axis=1)\n",
    "\n",
    "y_test1 = test_d['Comb Unrd Adj FE - Conventional Fuel']\n",
    "X_test1 = test_d.drop('Comb Unrd Adj FE - Conventional Fuel', axis=1)\n"
   ]
  },
  {
   "cell_type": "markdown",
   "metadata": {
    "collapsed": true
   },
   "source": [
    "Ridge regression\n",
    "====="
   ]
  },
  {
   "cell_type": "code",
   "execution_count": null,
   "metadata": {},
   "outputs": [],
   "source": [
    "\n",
    "param_grid = {'alpha': np.logspace(-3, 3, 13)}\n",
    "grid_ridge = GridSearchCV(Ridge(), param_grid, cv=5)\n",
    "grid_ridge.fit(X_train, y_train)\n",
    "print(grid_ridge.best_params_)\n",
    "print(grid_ridge.best_score_)\n",
    "ridge = grid_ridge.best_estimator_\n",
    "\n",
    "sorted(grid_ridge.cv_results_.keys())"
   ]
  },
  {
   "cell_type": "code",
   "execution_count": 17,
   "metadata": {},
   "outputs": [
    {
     "data": {
      "image/png": "[encoded data removed]",
      "text/plain": [
       "<matplotlib.figure.Figure at 0x108237390>"
      ]
     },
     "metadata": {},
     "output_type": "display_data"
    }
   ],
   "source": [
    "plt.figure(figsize=(8,8))\n",
    "plt.xscale('log')\n",
    "plt.title('Effect of alpha on Ridge regression', fontsize=20)\n",
    "plt.xlabel('alpha', fontsize=18)\n",
    "plt.ylabel('validation score', fontsize=18)\n",
    "plt.plot(param_grid['alpha'], grid_ridge.cv_results_['mean_test_score'], marker='o')\n",
    "plt.fill_between(param_grid['alpha'], grid_ridge.cv_results_['mean_test_score'] \n",
    "                 + grid_ridge.cv_results_['std_test_score'], \n",
    "                 grid_ridge.cv_results_['mean_test_score'] - \n",
    "                 grid_ridge.cv_results_['std_test_score'], \n",
    "                 facecolor='blue', \n",
    "                 alpha=0.1)\n",
    "plt.show()"
   ]
  },
  {
   "cell_type": "code",
   "execution_count": 62,
   "metadata": {},
   "outputs": [
    {
     "name": "stdout",
     "output_type": "stream",
     "text": [
      "(1220,)\n",
      "(1220, 1531)\n"
     ]
    },
    {
     "data": {
      "text/plain": [
       "0.9886057726020322"
      ]
     },
     "execution_count": 62,
     "metadata": {},
     "output_type": "execute_result"
    }
   ],
   "source": [
    "print(y_test.shape)\n",
    "print(X_test.shape)\n",
    "ridge.score(X_test, y_test)"
   ]
  },
  {
   "cell_type": "markdown",
   "metadata": {},
   "source": [
    "Lasso\n",
    "====="
   ]
  },
  {
   "cell_type": "code",
   "execution_count": 18,
   "metadata": {},
   "outputs": [
    {
     "name": "stdout",
     "output_type": "stream",
     "text": [
      "0.92851052459\n",
      "{'alpha': 0.0001}\n",
      "CPU times: user 13.5 s, sys: 1.92 s, total: 15.5 s\n",
      "Wall time: 15.4 s\n"
     ]
    }
   ],
   "source": [
    "%%time\n",
    "param_grid = {'alpha': np.logspace(-4, 0, 13)}\n",
    "grid_lasso = GridSearchCV(Lasso(normalize=True), param_grid, cv=5)\n",
    "grid_lasso.fit(X_train, y_train)\n",
    "print(grid_lasso.best_score_)\n",
    "print(grid_lasso.best_params_)\n",
    "lasso = grid_lasso.best_estimator_"
   ]
  },
  {
   "cell_type": "code",
   "execution_count": 65,
   "metadata": {},
   "outputs": [
    {
     "data": {
      "image/png": "[encoded data removed]",
      "text/plain": [
       "<matplotlib.figure.Figure at 0x10c800278>"
      ]
     },
     "metadata": {},
     "output_type": "display_data"
    }
   ],
   "source": [
    "plt.figure(figsize=(12,8))\n",
    "plt.xscale('log')\n",
    "plt.title('Effect of alpha on Lasso regression', fontsize=20)\n",
    "plt.xlabel('alpha', fontsize=18)\n",
    "plt.ylabel('validation score', fontsize=18)\n",
    "plt.plot(param_grid['alpha'], grid_lasso.cv_results_['mean_test_score'], marker='o')\n",
    "plt.fill_between(param_grid['alpha'], grid_lasso.cv_results_['mean_test_score']\n",
    "                 + grid_lasso.cv_results_['std_test_score'], \n",
    "                 grid_lasso.cv_results_['mean_test_score']\n",
    "                 - grid_lasso.cv_results_['std_test_score'], \n",
    "                 facecolor='blue', \n",
    "                 alpha=0.1)\n",
    "plt.show()"
   ]
  },
  {
   "cell_type": "code",
   "execution_count": null,
   "metadata": {
    "collapsed": true
   },
   "outputs": [],
   "source": [
    "print('R2 score :', lasso.score(X_test1, y_test1))"
   ]
  },
  {
   "cell_type": "markdown",
   "metadata": {},
   "source": [
    "ElasticNet\n",
    "======"
   ]
  },
  {
   "cell_type": "code",
   "execution_count": 68,
   "metadata": {},
   "outputs": [
    {
     "name": "stdout",
     "output_type": "stream",
     "text": [
      "{'alpha': 0.01}\n",
      "0.872886136203\n",
      "ElasticNet(alpha=0.01, copy_X=True, fit_intercept=True, l1_ratio=0.5,\n",
      "      max_iter=1000, normalize=False, positive=False, precompute=False,\n",
      "      random_state=None, selection='cyclic', tol=0.0001, warm_start=False)\n"
     ]
    }
   ],
   "source": [
    "from sklearn.linear_model import  ElasticNet\n",
    "param_grid = {'alpha': np.logspace(-2, 3, 13)}\n",
    "grid_elastic_net = GridSearchCV(ElasticNet(), param_grid, cv=10)\n",
    "grid_elastic_net.fit(X_train, y_train)\n",
    "print(grid_elastic_net.best_params_)\n",
    "print(grid_elastic_net.best_score_)\n",
    "elastic_net = grid_elastic_net.best_estimator_\n",
    "print(elastic_net)"
   ]
  },
  {
   "cell_type": "code",
   "execution_count": 112,
   "metadata": {},
   "outputs": [
    {
     "data": {
      "image/png": "[encoded data removed]",
      "text/plain": [
       "<matplotlib.figure.Figure at 0x10709f890>"
      ]
     },
     "metadata": {},
     "output_type": "display_data"
    },
    {
     "data": {
      "text/plain": [
       "array([ -3.94979878e-01,  -8.96879028e-02,   1.47351605e-02, ...,\n",
       "        -0.00000000e+00,  -0.00000000e+00,   3.03549338e-04])"
      ]
     },
     "execution_count": 112,
     "metadata": {},
     "output_type": "execute_result"
    }
   ],
   "source": [
    "plt.scatter(range(X_train.shape[1]), ridge.coef_,\n",
    "            c=np.sign(elastic_net.coef_), cmap=\"bwr_r\")\n",
    "plt.show()\n",
    "\n",
    "elastic_net.coef_"
   ]
  },
  {
   "cell_type": "code",
   "execution_count": 67,
   "metadata": {},
   "outputs": [
    {
     "data": {
      "image/png": "[encoded data removed]",
      "text/plain": [
       "<matplotlib.figure.Figure at 0x109e4f510>"
      ]
     },
     "metadata": {},
     "output_type": "display_data"
    }
   ],
   "source": [
    "plt.figure(figsize=(12,8))\n",
    "plt.xscale('log')\n",
    "plt.title('Effect of alpha on ElasticNet regression', fontsize=20)\n",
    "plt.xlabel('alpha', fontsize=18)\n",
    "plt.ylabel('validation score', fontsize=18)\n",
    "plt.plot(param_grid['alpha'], grid_elastic_net.cv_results_['mean_test_score'], \n",
    "         marker='o')\n",
    "plt.fill_between(param_grid['alpha'], grid_elastic_net.cv_results_['mean_test_score']\n",
    "                 + grid_elastic_net.cv_results_['std_test_score'], \n",
    "                 grid_elastic_net.cv_results_['mean_test_score']\n",
    "                 - grid_elastic_net.cv_results_['std_test_score'],\n",
    "                 facecolor='blue', \n",
    "                 alpha=0.1)\n",
    "plt.show()"
   ]
  },
  {
   "cell_type": "code",
   "execution_count": null,
   "metadata": {
    "collapsed": true
   },
   "outputs": [],
   "source": [
    "print('R2 score :', elastic_net.score(X_test, y_test))"
   ]
  },
  {
   "cell_type": "markdown",
   "metadata": {},
   "source": [
    "Feature Selection \n",
    "========"
   ]
  },
  {
   "cell_type": "code",
   "execution_count": null,
   "metadata": {
    "collapsed": true
   },
   "outputs": [],
   "source": [
    "polyn = PolynomialFeatures()\n",
    "X_train_poly = polyn.fit_transform(X_train_sparse)\n",
    "\n",
    "param_grid = {'alpha': np.logspace(-3, -1, 9)}\n",
    "grid_ridge1 = GridSearchCV(Ridge(), param_grid, cv=10)\n",
    "grid_ridge1.fit(X_train_poly, y_train)\n",
    "print(grid_ridge1.best_params_)\n",
    "print(grid_ridge1.best_score_)\n",
    "ridge_poly = grid_ridge1.best_estimator_"
   ]
  },
  {
   "cell_type": "code",
   "execution_count": null,
   "metadata": {
    "collapsed": true
   },
   "outputs": [],
   "source": [
    "plt.figure(figsize=(18,7))\n",
    "plt.title('Ridge coefficents', fontsize=15)\n",
    "plt.xlabel('coefficient nymber', fontsize=15)\n",
    "plt.ylabel('value', fontsize=15)\n",
    "plt.scatter(range(np.shape(X_train)[1]), ridge_poly.coef_, c=np.sign(lasso_poly.coef_), cmap=\"bwr_r\")\n",
    "plt.show()"
   ]
  }
 ],
 "metadata": {
  "kernelspec": {
   "display_name": "Python 3",
   "language": "python",
   "name": "python3"
  },
  "language_info": {
   "codemirror_mode": {
    "name": "ipython",
    "version": 3
   },
   "file_extension": ".py",
   "mimetype": "text/x-python",
   "name": "python",
   "nbconvert_exporter": "python",
   "pygments_lexer": "ipython3",
   "version": "3.6.3"
  }
 },
 "nbformat": 4,
 "nbformat_minor": 2
}
